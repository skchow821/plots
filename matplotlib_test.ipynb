{
 "cells": [
  {
   "cell_type": "markdown",
   "metadata": {},
   "source": [
    "### Getting warmed up with https://matplotlib.org/tutorials/introductory/usage.html#sphx-glr-tutorials-introductory-usage-py \n",
    "\n",
    "- Try out http://vispy.org/documentation.html for interactive telemetry plotting\n",
    "- Try out plotly for plotting schedules"
   ]
  },
  {
   "cell_type": "code",
   "execution_count": null,
   "metadata": {},
   "outputs": [],
   "source": [
    "import matplotlib.pyplot as plt\n",
    "import numpy as np\n",
    "\n",
    "%matplotlib notebook\n",
    "    \n",
    "fig = plt.figure()  # an empty figure with no axes\n",
    "fig.suptitle('No axes on this figure')  # Add a title so we know which it is\n",
    "\n",
    "fig, ax_lst = plt.subplots(2, 2)  # a figure with a 2x2 grid of Axes\n"
   ]
  },
  {
   "cell_type": "code",
   "execution_count": null,
   "metadata": {},
   "outputs": [],
   "source": [
    "x = np.linspace(0, 2, 100)\n",
    "\n",
    "plt.plot(x, x, label='linear')\n",
    "plt.plot(x, x**2, label='quadratic')\n",
    "plt.plot(x, x**3, label='cubic')\n",
    "\n",
    "plt.xlabel('x label')\n",
    "plt.ylabel('y label')\n",
    "\n",
    "plt.title(\"Simple Plot\")\n",
    "\n",
    "plt.legend()\n",
    "\n",
    "plt.show()"
   ]
  },
  {
   "cell_type": "code",
   "execution_count": null,
   "metadata": {},
   "outputs": [],
   "source": [
    "x = np.arange(0, 10, 0.2)\n",
    "y = np.sin(x)\n",
    "fig, ax = plt.subplots()\n",
    "ax.plot(x, y)\n",
    "plt.show()"
   ]
  },
  {
   "cell_type": "code",
   "execution_count": null,
   "metadata": {
    "scrolled": true
   },
   "outputs": [],
   "source": [
    "import matplotlib\n",
    "import pytz # to infer tz based on time in seconds\n",
    "from pylab import rcParams\n",
    "import datetime\n",
    "%matplotlib notebook\n",
    "    \n",
    "def y_axis_datetime_formatter(y, pos=None):\n",
    "    dt_obj = datetime.datetime(2001,1,1) + datetime.timedelta(seconds=y)\n",
    "    dt_obj_local = pytz.timezone('US/Pacific').localize(dt_obj)\n",
    "    return \"{0:%H:%M}\".format(dt_obj_local)\n",
    "\n",
    "def plt_date_converter(s):\n",
    "    dt_obj = datetime.datetime(2001,1,1) + datetime.timedelta(seconds=s)\n",
    "    dt_obj_local = pytz.timezone('US/Pacific').localize(dt_obj)\n",
    "    return matplotlib.dates.date2num(dt_obj_local)\n",
    "\n",
    "def convert_to_rectangle(start_time, end_time, y_loc):\n",
    "    height = .01\n",
    "    return matplotlib.patches.Rectangle((start_time, y_loc - height/2), \n",
    "                                        end_time - start_time, \n",
    "                                        height)\n",
    "# get some times\n",
    "cf_epoch = datetime.datetime(2001, 1, 1)\n",
    "dt_now = datetime.datetime.now()\n",
    "time_offset = (dt_now - cf_epoch).total_seconds()\n",
    "\n",
    "xn = np.arange(0, 7200, 100)\n",
    "#xn = xn * 3600\n",
    "time_array = xn + time_offset\n",
    "\n",
    "yn = np.ones(len(xn))\n",
    "fig, ax = plt.subplots()\n",
    "xn_o = [plt_date_converter(x) for x in time_array]\n",
    "\n",
    "# Add some boxes\n",
    "boxes = [convert_to_rectangle(x, x+0.00001, 1) for x in xn_o]\n",
    "pc = matplotlib.collections.PatchCollection(boxes, facecolor='r')\n",
    "\n",
    "# Set up the plot\n",
    "xtick_locator = matplotlib.dates.AutoDateLocator()\n",
    "xtick_formatter = matplotlib.dates.AutoDateFormatter(xtick_locator)\n",
    "ax.grid()\n",
    "ax.xaxis.set_major_locator(xtick_locator)\n",
    "ax.xaxis.set_major_formatter(xtick_formatter)\n",
    "\n",
    "# Put data on the plot\n",
    "matplotlib.pyplot.text(xn_o[0], 1, \"test\", rotation=90)\n",
    "\n",
    "# Put boxes on the plot\n",
    "rcParams['figure.figsize'] = 10,10\n",
    "ax.set_xlim(xn_o[0], xn_o[-1])\n",
    "ax.set_ylim(0.9, 1.1)\n",
    "fig.autofmt_xdate()\n",
    "ax.add_collection(pc)\n",
    "\n",
    "# Draw\n",
    "fig.show()\n",
    "ax.fmt_xdata = matplotlib.dates.DateFormatter('%H:%M:%S')"
   ]
  },
  {
   "cell_type": "code",
   "execution_count": null,
   "metadata": {},
   "outputs": [],
   "source": [
    "from matplotlib import dates, axes, pyplot\n",
    "\n",
    "class TimeSeriesFrame(Object):\n",
    "    def __init__(self):\n",
    "        fig, ax = plt.subplots()\n",
    "        self.axes = ax\n",
    "        self.figure = fig\n",
    "        xtick_locator = matplotlib.dates.AutoDateLocator()\n",
    "        xtick_formatter = matplotlib.dates.AutoDateFormatter(xtick_locator)\n",
    "        self.axes.xaxis.set_major_locator(xtick_locator)\n",
    "        self.axes.xaxis.set_major_formatter(xtick_formatter)\n",
    "        self.axes.grid()\n",
    "        self.figure.autofmt_xdate()\n",
    "\n",
    "    def add_series(self, xy_pairs):\n",
    "        \n",
    "    def add_events(self, events):\n"
   ]
  },
  {
   "cell_type": "code",
   "execution_count": null,
   "metadata": {},
   "outputs": [],
   "source": []
  }
 ],
 "metadata": {
  "kernelspec": {
   "display_name": "Python 3",
   "language": "python",
   "name": "python3"
  },
  "language_info": {
   "codemirror_mode": {
    "name": "ipython",
    "version": 3
   },
   "file_extension": ".py",
   "mimetype": "text/x-python",
   "name": "python",
   "nbconvert_exporter": "python",
   "pygments_lexer": "ipython3",
   "version": "3.7.1"
  }
 },
 "nbformat": 4,
 "nbformat_minor": 2
}
